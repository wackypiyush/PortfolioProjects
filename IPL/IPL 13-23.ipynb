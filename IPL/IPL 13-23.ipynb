{
 "cells": [
  {
   "cell_type": "code",
   "execution_count": 58,
   "id": "1c7e1992",
   "metadata": {},
   "outputs": [],
   "source": [
    "import numpy as np\n",
    "import seaborn as sns\n",
    "import matplotlib.pyplot as plt\n",
    "import pandas as pd\n",
    "from pprint import pprint\n"
   ]
  },
  {
   "cell_type": "markdown",
   "id": "7ea5c857",
   "metadata": {},
   "source": [
    "## Dataset of Sold Players in IPL Auctions for year 2013-2023, including their Names, Nationality, Sold-out price,Type of Player & IPL Team which bought them. Data Scraped from IPL website (as per the dataset description)\n",
    "\n",
    "#### Link: https://www.kaggle.com/datasets/sunayanagawde/ipl-2023-auction-dataset?select=IPL_Sold_players_2013_23.csv\n"
   ]
  },
  {
   "cell_type": "code",
   "execution_count": 2,
   "id": "2d0e9cef",
   "metadata": {},
   "outputs": [],
   "source": [
    "# Importing Data\n",
    "\n",
    "df= pd.read_csv(\"IPL_Sold_players_2013_23.csv\")"
   ]
  },
  {
   "cell_type": "code",
   "execution_count": 3,
   "id": "39af6836",
   "metadata": {},
   "outputs": [
    {
     "data": {
      "text/html": [
       "<div>\n",
       "<style scoped>\n",
       "    .dataframe tbody tr th:only-of-type {\n",
       "        vertical-align: middle;\n",
       "    }\n",
       "\n",
       "    .dataframe tbody tr th {\n",
       "        vertical-align: top;\n",
       "    }\n",
       "\n",
       "    .dataframe thead th {\n",
       "        text-align: right;\n",
       "    }\n",
       "</style>\n",
       "<table border=\"1\" class=\"dataframe\">\n",
       "  <thead>\n",
       "    <tr style=\"text-align: right;\">\n",
       "      <th></th>\n",
       "      <th>Season</th>\n",
       "      <th>Name</th>\n",
       "      <th>Nationality</th>\n",
       "      <th>Type</th>\n",
       "      <th>Team</th>\n",
       "      <th>Price</th>\n",
       "    </tr>\n",
       "  </thead>\n",
       "  <tbody>\n",
       "    <tr>\n",
       "      <th>0</th>\n",
       "      <td>2023</td>\n",
       "      <td>Ajinkya Rahane</td>\n",
       "      <td>Indian</td>\n",
       "      <td>Batter</td>\n",
       "      <td>Chennai Super Kings</td>\n",
       "      <td>50,00,000</td>\n",
       "    </tr>\n",
       "    <tr>\n",
       "      <th>1</th>\n",
       "      <td>2023</td>\n",
       "      <td>Bhagath Varma</td>\n",
       "      <td>Indian</td>\n",
       "      <td>All-Rounder</td>\n",
       "      <td>Chennai Super Kings</td>\n",
       "      <td>20,00,000</td>\n",
       "    </tr>\n",
       "    <tr>\n",
       "      <th>2</th>\n",
       "      <td>2023</td>\n",
       "      <td>Kyle Jamieson</td>\n",
       "      <td>Overseas</td>\n",
       "      <td>Bowler</td>\n",
       "      <td>Chennai Super Kings</td>\n",
       "      <td>1,00,00,000</td>\n",
       "    </tr>\n",
       "    <tr>\n",
       "      <th>3</th>\n",
       "      <td>2023</td>\n",
       "      <td>Ajay Mandal</td>\n",
       "      <td>Indian</td>\n",
       "      <td>All-Rounder</td>\n",
       "      <td>Chennai Super Kings</td>\n",
       "      <td>20,00,000</td>\n",
       "    </tr>\n",
       "    <tr>\n",
       "      <th>4</th>\n",
       "      <td>2023</td>\n",
       "      <td>Nishant Sindhu</td>\n",
       "      <td>Indian</td>\n",
       "      <td>All-Rounder</td>\n",
       "      <td>Chennai Super Kings</td>\n",
       "      <td>60,00,000</td>\n",
       "    </tr>\n",
       "  </tbody>\n",
       "</table>\n",
       "</div>"
      ],
      "text/plain": [
       "   Season             Name Nationality          Type                  Team  \\\n",
       "0    2023  Ajinkya Rahane      Indian        Batter    Chennai Super Kings   \n",
       "1    2023   Bhagath Varma      Indian   All-Rounder    Chennai Super Kings   \n",
       "2    2023   Kyle Jamieson    Overseas        Bowler    Chennai Super Kings   \n",
       "3    2023     Ajay Mandal      Indian   All-Rounder    Chennai Super Kings   \n",
       "4    2023  Nishant Sindhu      Indian   All-Rounder    Chennai Super Kings   \n",
       "\n",
       "          Price  \n",
       "0    50,00,000   \n",
       "1    20,00,000   \n",
       "2  1,00,00,000   \n",
       "3    20,00,000   \n",
       "4    60,00,000   "
      ]
     },
     "metadata": {},
     "output_type": "display_data"
    }
   ],
   "source": [
    "display(df.head())"
   ]
  },
  {
   "cell_type": "code",
   "execution_count": 4,
   "id": "154f1e58",
   "metadata": {},
   "outputs": [
    {
     "name": "stdout",
     "output_type": "stream",
     "text": [
      "<class 'pandas.core.frame.DataFrame'>\n",
      "RangeIndex: 965 entries, 0 to 964\n",
      "Data columns (total 6 columns):\n",
      " #   Column       Non-Null Count  Dtype \n",
      "---  ------       --------------  ----- \n",
      " 0   Season       965 non-null    int64 \n",
      " 1   Name         965 non-null    object\n",
      " 2   Nationality  965 non-null    object\n",
      " 3   Type         965 non-null    object\n",
      " 4   Team         965 non-null    object\n",
      " 5   Price        965 non-null    object\n",
      "dtypes: int64(1), object(5)\n",
      "memory usage: 45.4+ KB\n"
     ]
    }
   ],
   "source": [
    "df.info()"
   ]
  },
  {
   "cell_type": "code",
   "execution_count": 5,
   "id": "9529b2bc",
   "metadata": {},
   "outputs": [
    {
     "data": {
      "text/plain": [
       "Season         0\n",
       "Name           0\n",
       "Nationality    0\n",
       "Type           0\n",
       "Team           0\n",
       "Price          0\n",
       "dtype: int64"
      ]
     },
     "metadata": {},
     "output_type": "display_data"
    }
   ],
   "source": [
    "# Checking if any record is containing NULL\n",
    "\n",
    "display(df.isnull().sum())"
   ]
  },
  {
   "cell_type": "markdown",
   "id": "7cd8563a",
   "metadata": {},
   "source": [
    "### => No value is NULL"
   ]
  },
  {
   "cell_type": "code",
   "execution_count": 6,
   "id": "0464dc54",
   "metadata": {},
   "outputs": [
    {
     "data": {
      "text/html": [
       "<div>\n",
       "<style scoped>\n",
       "    .dataframe tbody tr th:only-of-type {\n",
       "        vertical-align: middle;\n",
       "    }\n",
       "\n",
       "    .dataframe tbody tr th {\n",
       "        vertical-align: top;\n",
       "    }\n",
       "\n",
       "    .dataframe thead th {\n",
       "        text-align: right;\n",
       "    }\n",
       "</style>\n",
       "<table border=\"1\" class=\"dataframe\">\n",
       "  <thead>\n",
       "    <tr style=\"text-align: right;\">\n",
       "      <th></th>\n",
       "      <th>Season</th>\n",
       "      <th>Name</th>\n",
       "      <th>Nationality</th>\n",
       "      <th>Type</th>\n",
       "      <th>Team</th>\n",
       "      <th>Price</th>\n",
       "    </tr>\n",
       "  </thead>\n",
       "  <tbody>\n",
       "    <tr>\n",
       "      <th>284</th>\n",
       "      <td>2021</td>\n",
       "      <td>Tom Curran</td>\n",
       "      <td>Not Available</td>\n",
       "      <td>All-Rounder</td>\n",
       "      <td>Delhi Capitals</td>\n",
       "      <td>5,25,00,000</td>\n",
       "    </tr>\n",
       "    <tr>\n",
       "      <th>285</th>\n",
       "      <td>2021</td>\n",
       "      <td>Steven Smith</td>\n",
       "      <td>Not Available</td>\n",
       "      <td>Batsman</td>\n",
       "      <td>Delhi Capitals</td>\n",
       "      <td>2,20,00,000</td>\n",
       "    </tr>\n",
       "    <tr>\n",
       "      <th>290</th>\n",
       "      <td>2021</td>\n",
       "      <td>Lukman Hussain Meriwala</td>\n",
       "      <td>Not Available</td>\n",
       "      <td>Bowler</td>\n",
       "      <td>Delhi Capitals</td>\n",
       "      <td>20,00,000</td>\n",
       "    </tr>\n",
       "    <tr>\n",
       "      <th>291</th>\n",
       "      <td>2021</td>\n",
       "      <td>M Siddharth</td>\n",
       "      <td>Not Available</td>\n",
       "      <td>Bowler</td>\n",
       "      <td>Delhi Capitals</td>\n",
       "      <td>20,00,000</td>\n",
       "    </tr>\n",
       "    <tr>\n",
       "      <th>293</th>\n",
       "      <td>2021</td>\n",
       "      <td>Harbhajan Singh</td>\n",
       "      <td>Not Available</td>\n",
       "      <td>Bowler</td>\n",
       "      <td>Kolkata Knight Riders</td>\n",
       "      <td>2,00,00,000</td>\n",
       "    </tr>\n",
       "    <tr>\n",
       "      <th>...</th>\n",
       "      <td>...</td>\n",
       "      <td>...</td>\n",
       "      <td>...</td>\n",
       "      <td>...</td>\n",
       "      <td>...</td>\n",
       "      <td>...</td>\n",
       "    </tr>\n",
       "    <tr>\n",
       "      <th>958</th>\n",
       "      <td>2013</td>\n",
       "      <td>Christopher Barnwell</td>\n",
       "      <td>Not Available</td>\n",
       "      <td>All-Rounder</td>\n",
       "      <td>Royal Challengers Bangalore</td>\n",
       "      <td>50,000</td>\n",
       "    </tr>\n",
       "    <tr>\n",
       "      <th>960</th>\n",
       "      <td>2013</td>\n",
       "      <td>Darren Sammy</td>\n",
       "      <td>Not Available</td>\n",
       "      <td>All-Rounder</td>\n",
       "      <td>Sunrisers Hyderabad</td>\n",
       "      <td>425,000</td>\n",
       "    </tr>\n",
       "    <tr>\n",
       "      <th>961</th>\n",
       "      <td>2013</td>\n",
       "      <td>Sudeep Tyagi</td>\n",
       "      <td>Not Available</td>\n",
       "      <td>Bowler</td>\n",
       "      <td>Sunrisers Hyderabad</td>\n",
       "      <td>100,000</td>\n",
       "    </tr>\n",
       "    <tr>\n",
       "      <th>962</th>\n",
       "      <td>2013</td>\n",
       "      <td>Clinton McKay</td>\n",
       "      <td>Not Available</td>\n",
       "      <td>Bowler</td>\n",
       "      <td>Sunrisers Hyderabad</td>\n",
       "      <td>100,000</td>\n",
       "    </tr>\n",
       "    <tr>\n",
       "      <th>963</th>\n",
       "      <td>2013</td>\n",
       "      <td>Nathan McCullum</td>\n",
       "      <td>Not Available</td>\n",
       "      <td>Bowler</td>\n",
       "      <td>Sunrisers Hyderabad</td>\n",
       "      <td>100,000</td>\n",
       "    </tr>\n",
       "  </tbody>\n",
       "</table>\n",
       "<p>418 rows × 6 columns</p>\n",
       "</div>"
      ],
      "text/plain": [
       "     Season                      Name    Nationality          Type  \\\n",
       "284    2021               Tom Curran   Not Available  All-Rounder    \n",
       "285    2021             Steven Smith   Not Available      Batsman    \n",
       "290    2021  Lukman Hussain Meriwala   Not Available       Bowler    \n",
       "291    2021              M Siddharth   Not Available       Bowler    \n",
       "293    2021          Harbhajan Singh   Not Available       Bowler    \n",
       "..      ...                       ...            ...           ...   \n",
       "958    2013      Christopher Barnwell  Not Available   All-Rounder   \n",
       "960    2013              Darren Sammy  Not Available   All-Rounder   \n",
       "961    2013              Sudeep Tyagi  Not Available        Bowler   \n",
       "962    2013             Clinton McKay  Not Available        Bowler   \n",
       "963    2013           Nathan McCullum  Not Available        Bowler   \n",
       "\n",
       "                             Team        Price  \n",
       "284                Delhi Capitals  5,25,00,000  \n",
       "285                Delhi Capitals  2,20,00,000  \n",
       "290                Delhi Capitals    20,00,000  \n",
       "291                Delhi Capitals    20,00,000  \n",
       "293         Kolkata Knight Riders  2,00,00,000  \n",
       "..                            ...          ...  \n",
       "958   Royal Challengers Bangalore       50,000  \n",
       "960           Sunrisers Hyderabad      425,000  \n",
       "961           Sunrisers Hyderabad      100,000  \n",
       "962           Sunrisers Hyderabad      100,000  \n",
       "963           Sunrisers Hyderabad      100,000  \n",
       "\n",
       "[418 rows x 6 columns]"
      ]
     },
     "metadata": {},
     "output_type": "display_data"
    }
   ],
   "source": [
    "q1=df.query(\"Nationality=='Not Available'\")\n",
    "display(q1)"
   ]
  },
  {
   "cell_type": "markdown",
   "id": "d74af396",
   "metadata": {},
   "source": [
    "### => But we can see there are many players whose Nationality is Not Available``"
   ]
  },
  {
   "cell_type": "code",
   "execution_count": 7,
   "id": "e7228d74",
   "metadata": {},
   "outputs": [
    {
     "name": "stdout",
     "output_type": "stream",
     "text": [
      "[2023 2022 2021 2020 2019 2018 2017 2016 2015 2014 2013]\n"
     ]
    }
   ],
   "source": [
    "print(df['Season'].unique())"
   ]
  },
  {
   "cell_type": "markdown",
   "id": "8caff115",
   "metadata": {},
   "source": [
    "### => This is a dataset of these years ipl auction"
   ]
  },
  {
   "cell_type": "code",
   "execution_count": 8,
   "id": "b3f7e44c",
   "metadata": {
    "scrolled": true
   },
   "outputs": [
    {
     "name": "stdout",
     "output_type": "stream",
     "text": [
      "array([' Chennai Super Kings', ' Delhi Capitals', ' Gujarat Titans',\n",
      "       ' Kolkata Knight Riders', ' Lucknow Super Giants',\n",
      "       ' Mumbai Indians', ' Punjab Kings', ' Rajasthan Royals',\n",
      "       ' Royal Challengers Bangalore', ' Sunrisers Hyderabad',\n",
      "       ' Kings XI Punjab', 'Kings XI Punjab', 'Delhi Daredevils',\n",
      "       'Gujarat Lions', 'Kolkata Knight Riders', 'Mumbai Indians',\n",
      "       'Rising Pune Supergiant', 'Rajasthan Royals',\n",
      "       'Pune Warriors India'], dtype=object)\n"
     ]
    }
   ],
   "source": [
    "pprint(df['Team'].unique())"
   ]
  },
  {
   "cell_type": "markdown",
   "id": "2c293333",
   "metadata": {},
   "source": [
    "## Here we can see some names are repeated or some names of teams have been changed. So to avoid confusion, Team name should be the present one."
   ]
  },
  {
   "cell_type": "code",
   "execution_count": 9,
   "id": "509ab2b3",
   "metadata": {},
   "outputs": [],
   "source": [
    "df.replace(' Chennai Super Kings','Chennai Super Kings',inplace=True)\n",
    "df.replace(' Delhi Capitals','Delhi Capitals',inplace=True)\n",
    "df.replace(' Gujarat Titans','Gujarat Titans',inplace=True)\n",
    "df.replace(' Kolkata Knight Riders','Kolkata Knight Riders',inplace=True)\n",
    "df.replace(' Lucknow Super Giants','Lucknow Super Giants',inplace=True)\n",
    "df.replace(' Mumbai Indians','Mumbai Indians',inplace=True)\n",
    "df.replace(' Punjab Kings','Punjab Kings',inplace=True)\n",
    "df.replace(' Rajasthan Royals','Rajasthan Royals',inplace=True)\n",
    "df.replace(' Royal Challengers Bangalore','Royal Challengers Bangalore',inplace=True)\n",
    "df.replace(' Sunrisers Hyderabad','Sunrisers Hyderabad',inplace=True)\n",
    "df.replace(' Kings XI Punjab','Punjab Kings',inplace=True)\n",
    "df.replace('Kings XI Punjab','Punjab Kings',inplace=True)\n",
    "df.replace('Delhi Daredevils','Delhi Capitals',inplace=True)\n",
    "df.replace('Gujarat Lions','Gujarat Titans',inplace=True)\n",
    "df.replace('Gujarat Lions','Gujarat Titans',inplace=True)"
   ]
  },
  {
   "cell_type": "code",
   "execution_count": 10,
   "id": "718ff863",
   "metadata": {},
   "outputs": [
    {
     "name": "stdout",
     "output_type": "stream",
     "text": [
      "array(['Chennai Super Kings', 'Delhi Capitals', 'Gujarat Titans',\n",
      "       'Kolkata Knight Riders', 'Lucknow Super Giants', 'Mumbai Indians',\n",
      "       'Punjab Kings', 'Rajasthan Royals', 'Royal Challengers Bangalore',\n",
      "       'Sunrisers Hyderabad', 'Rising Pune Supergiant',\n",
      "       'Pune Warriors India'], dtype=object)\n",
      "12\n"
     ]
    }
   ],
   "source": [
    "pprint(df['Team'].unique())\n",
    "print(len(df['Team'].unique()))"
   ]
  },
  {
   "cell_type": "markdown",
   "id": "4c586de5",
   "metadata": {},
   "source": [
    "### Hence 12 Unique Teams"
   ]
  },
  {
   "cell_type": "markdown",
   "id": "865fc68f",
   "metadata": {},
   "source": [
    "## As Price column is in Object data type, we are changing it to Int datatype so that it can be used in calculations."
   ]
  },
  {
   "cell_type": "code",
   "execution_count": 11,
   "id": "e78872d9",
   "metadata": {},
   "outputs": [],
   "source": [
    "df['Price']=df['Price'].str.replace(',','').astype('int64')"
   ]
  },
  {
   "cell_type": "code",
   "execution_count": 12,
   "id": "5c7bde35",
   "metadata": {},
   "outputs": [
    {
     "data": {
      "text/html": [
       "<div>\n",
       "<style scoped>\n",
       "    .dataframe tbody tr th:only-of-type {\n",
       "        vertical-align: middle;\n",
       "    }\n",
       "\n",
       "    .dataframe tbody tr th {\n",
       "        vertical-align: top;\n",
       "    }\n",
       "\n",
       "    .dataframe thead th {\n",
       "        text-align: right;\n",
       "    }\n",
       "</style>\n",
       "<table border=\"1\" class=\"dataframe\">\n",
       "  <thead>\n",
       "    <tr style=\"text-align: right;\">\n",
       "      <th></th>\n",
       "      <th>Season</th>\n",
       "      <th>Name</th>\n",
       "      <th>Nationality</th>\n",
       "      <th>Type</th>\n",
       "      <th>Team</th>\n",
       "      <th>Price</th>\n",
       "    </tr>\n",
       "  </thead>\n",
       "  <tbody>\n",
       "    <tr>\n",
       "      <th>0</th>\n",
       "      <td>2023</td>\n",
       "      <td>Ajinkya Rahane</td>\n",
       "      <td>Indian</td>\n",
       "      <td>Batter</td>\n",
       "      <td>Chennai Super Kings</td>\n",
       "      <td>5000000</td>\n",
       "    </tr>\n",
       "    <tr>\n",
       "      <th>1</th>\n",
       "      <td>2023</td>\n",
       "      <td>Bhagath Varma</td>\n",
       "      <td>Indian</td>\n",
       "      <td>All-Rounder</td>\n",
       "      <td>Chennai Super Kings</td>\n",
       "      <td>2000000</td>\n",
       "    </tr>\n",
       "    <tr>\n",
       "      <th>2</th>\n",
       "      <td>2023</td>\n",
       "      <td>Kyle Jamieson</td>\n",
       "      <td>Overseas</td>\n",
       "      <td>Bowler</td>\n",
       "      <td>Chennai Super Kings</td>\n",
       "      <td>10000000</td>\n",
       "    </tr>\n",
       "    <tr>\n",
       "      <th>3</th>\n",
       "      <td>2023</td>\n",
       "      <td>Ajay Mandal</td>\n",
       "      <td>Indian</td>\n",
       "      <td>All-Rounder</td>\n",
       "      <td>Chennai Super Kings</td>\n",
       "      <td>2000000</td>\n",
       "    </tr>\n",
       "    <tr>\n",
       "      <th>4</th>\n",
       "      <td>2023</td>\n",
       "      <td>Nishant Sindhu</td>\n",
       "      <td>Indian</td>\n",
       "      <td>All-Rounder</td>\n",
       "      <td>Chennai Super Kings</td>\n",
       "      <td>6000000</td>\n",
       "    </tr>\n",
       "    <tr>\n",
       "      <th>...</th>\n",
       "      <td>...</td>\n",
       "      <td>...</td>\n",
       "      <td>...</td>\n",
       "      <td>...</td>\n",
       "      <td>...</td>\n",
       "      <td>...</td>\n",
       "    </tr>\n",
       "    <tr>\n",
       "      <th>960</th>\n",
       "      <td>2013</td>\n",
       "      <td>Darren Sammy</td>\n",
       "      <td>Not Available</td>\n",
       "      <td>All-Rounder</td>\n",
       "      <td>Sunrisers Hyderabad</td>\n",
       "      <td>425000</td>\n",
       "    </tr>\n",
       "    <tr>\n",
       "      <th>961</th>\n",
       "      <td>2013</td>\n",
       "      <td>Sudeep Tyagi</td>\n",
       "      <td>Not Available</td>\n",
       "      <td>Bowler</td>\n",
       "      <td>Sunrisers Hyderabad</td>\n",
       "      <td>100000</td>\n",
       "    </tr>\n",
       "    <tr>\n",
       "      <th>962</th>\n",
       "      <td>2013</td>\n",
       "      <td>Clinton McKay</td>\n",
       "      <td>Not Available</td>\n",
       "      <td>Bowler</td>\n",
       "      <td>Sunrisers Hyderabad</td>\n",
       "      <td>100000</td>\n",
       "    </tr>\n",
       "    <tr>\n",
       "      <th>963</th>\n",
       "      <td>2013</td>\n",
       "      <td>Nathan McCullum</td>\n",
       "      <td>Not Available</td>\n",
       "      <td>Bowler</td>\n",
       "      <td>Sunrisers Hyderabad</td>\n",
       "      <td>100000</td>\n",
       "    </tr>\n",
       "    <tr>\n",
       "      <th>964</th>\n",
       "      <td>2013</td>\n",
       "      <td>Quinton De Kock</td>\n",
       "      <td>Overseas</td>\n",
       "      <td>Wicket Keeper</td>\n",
       "      <td>Sunrisers Hyderabad</td>\n",
       "      <td>20000</td>\n",
       "    </tr>\n",
       "  </tbody>\n",
       "</table>\n",
       "<p>965 rows × 6 columns</p>\n",
       "</div>"
      ],
      "text/plain": [
       "     Season             Name    Nationality           Type  \\\n",
       "0      2023  Ajinkya Rahane         Indian         Batter    \n",
       "1      2023   Bhagath Varma         Indian    All-Rounder    \n",
       "2      2023   Kyle Jamieson       Overseas         Bowler    \n",
       "3      2023     Ajay Mandal         Indian    All-Rounder    \n",
       "4      2023  Nishant Sindhu         Indian    All-Rounder    \n",
       "..      ...              ...            ...            ...   \n",
       "960    2013     Darren Sammy  Not Available    All-Rounder   \n",
       "961    2013     Sudeep Tyagi  Not Available         Bowler   \n",
       "962    2013    Clinton McKay  Not Available         Bowler   \n",
       "963    2013  Nathan McCullum  Not Available         Bowler   \n",
       "964    2013  Quinton De Kock      Overseas   Wicket Keeper   \n",
       "\n",
       "                    Team     Price  \n",
       "0    Chennai Super Kings   5000000  \n",
       "1    Chennai Super Kings   2000000  \n",
       "2    Chennai Super Kings  10000000  \n",
       "3    Chennai Super Kings   2000000  \n",
       "4    Chennai Super Kings   6000000  \n",
       "..                   ...       ...  \n",
       "960  Sunrisers Hyderabad    425000  \n",
       "961  Sunrisers Hyderabad    100000  \n",
       "962  Sunrisers Hyderabad    100000  \n",
       "963  Sunrisers Hyderabad    100000  \n",
       "964  Sunrisers Hyderabad     20000  \n",
       "\n",
       "[965 rows x 6 columns]"
      ]
     },
     "metadata": {},
     "output_type": "display_data"
    }
   ],
   "source": [
    "display(df)"
   ]
  },
  {
   "cell_type": "markdown",
   "id": "882a142e",
   "metadata": {},
   "source": [
    "### =>Hence Changed"
   ]
  },
  {
   "cell_type": "code",
   "execution_count": 13,
   "id": "e9598e7a",
   "metadata": {},
   "outputs": [
    {
     "name": "stdout",
     "output_type": "stream",
     "text": [
      "['Batter ' 'All-Rounder ' 'Bowler ' 'Wicket-Keeper ' 'Batsman '\n",
      " 'Wicket Keeper ' ' All-Rounder ' 'Bowler' ' Bowler ' ' Wicket Keeper'\n",
      " 'Batsman' 'All-Rounder' 'Wicket Keeper']\n"
     ]
    }
   ],
   "source": [
    "print(df['Type'].unique())"
   ]
  },
  {
   "cell_type": "markdown",
   "id": "f000e9b8",
   "metadata": {},
   "source": [
    "## Here we can see there are many records which are of same kind, so we need to make them one\n",
    "#### ex. Wicket-Keeper = Wicket Keeper"
   ]
  },
  {
   "cell_type": "code",
   "execution_count": 14,
   "id": "591c82b0",
   "metadata": {},
   "outputs": [],
   "source": [
    "df.replace('All-Rounder ',\"All-Rounder\",inplace=True)\n",
    "df.replace(' All-Rounder ',\"All-Rounder\",inplace=True)\n",
    "df.replace('Batter ',\"Batsman\",inplace=True)\n",
    "df.replace('Batsman ',\"Batsman\",inplace=True)\n",
    "df.replace('Bowler ','Bowler',inplace=True)\n",
    "df.replace(' Bowler ',\"Bowler\",inplace=True)\n",
    "df.replace('Wicket-Keeper ',\"Wicket-Keeper\",inplace=True)\n",
    "df.replace('Wicket Keeper ',\"Wicket-Keeper\",inplace=True)\n",
    "df.replace(' Wicket Keeper ',\"Wicket-Keeper\",inplace=True)\n",
    "df.replace(' Wicket Keeper',\"Wicket-Keeper\",inplace=True)\n",
    "df.replace('Wicket Keeper',\"Wicket-Keeper\",inplace=True)"
   ]
  },
  {
   "cell_type": "code",
   "execution_count": 15,
   "id": "d522c19f",
   "metadata": {},
   "outputs": [
    {
     "name": "stdout",
     "output_type": "stream",
     "text": [
      "['Batsman' 'All-Rounder' 'Bowler' 'Wicket-Keeper']\n",
      "4\n"
     ]
    }
   ],
   "source": [
    "print(df['Type'].unique())\n",
    "print(len(df['Type'].unique()))"
   ]
  },
  {
   "cell_type": "markdown",
   "id": "1a92e133",
   "metadata": {},
   "source": [
    "### => Hence, 4 unique types"
   ]
  },
  {
   "cell_type": "markdown",
   "id": "4c88e6a8",
   "metadata": {},
   "source": [
    "## Total Money Expended in IPL auction on players each Season"
   ]
  },
  {
   "cell_type": "code",
   "execution_count": 16,
   "id": "be328856",
   "metadata": {
    "scrolled": true
   },
   "outputs": [
    {
     "data": {
      "text/html": [
       "<div>\n",
       "<style scoped>\n",
       "    .dataframe tbody tr th:only-of-type {\n",
       "        vertical-align: middle;\n",
       "    }\n",
       "\n",
       "    .dataframe tbody tr th {\n",
       "        vertical-align: top;\n",
       "    }\n",
       "\n",
       "    .dataframe thead th {\n",
       "        text-align: right;\n",
       "    }\n",
       "</style>\n",
       "<table border=\"1\" class=\"dataframe\">\n",
       "  <thead>\n",
       "    <tr style=\"text-align: right;\">\n",
       "      <th></th>\n",
       "      <th>Price</th>\n",
       "    </tr>\n",
       "    <tr>\n",
       "      <th>Season</th>\n",
       "      <th></th>\n",
       "    </tr>\n",
       "  </thead>\n",
       "  <tbody>\n",
       "    <tr>\n",
       "      <th>2013</th>\n",
       "      <td>10600000</td>\n",
       "    </tr>\n",
       "    <tr>\n",
       "      <th>2014</th>\n",
       "      <td>2418000000</td>\n",
       "    </tr>\n",
       "    <tr>\n",
       "      <th>2015</th>\n",
       "      <td>835000000</td>\n",
       "    </tr>\n",
       "    <tr>\n",
       "      <th>2016</th>\n",
       "      <td>1050000000</td>\n",
       "    </tr>\n",
       "    <tr>\n",
       "      <th>2017</th>\n",
       "      <td>771000000</td>\n",
       "    </tr>\n",
       "    <tr>\n",
       "      <th>2018</th>\n",
       "      <td>3912000000</td>\n",
       "    </tr>\n",
       "    <tr>\n",
       "      <th>2019</th>\n",
       "      <td>1016000000</td>\n",
       "    </tr>\n",
       "    <tr>\n",
       "      <th>2020</th>\n",
       "      <td>1258500000</td>\n",
       "    </tr>\n",
       "    <tr>\n",
       "      <th>2021</th>\n",
       "      <td>1279500000</td>\n",
       "    </tr>\n",
       "    <tr>\n",
       "      <th>2022</th>\n",
       "      <td>5517000000</td>\n",
       "    </tr>\n",
       "    <tr>\n",
       "      <th>2023</th>\n",
       "      <td>1670000000</td>\n",
       "    </tr>\n",
       "  </tbody>\n",
       "</table>\n",
       "</div>"
      ],
      "text/plain": [
       "             Price\n",
       "Season            \n",
       "2013      10600000\n",
       "2014    2418000000\n",
       "2015     835000000\n",
       "2016    1050000000\n",
       "2017     771000000\n",
       "2018    3912000000\n",
       "2019    1016000000\n",
       "2020    1258500000\n",
       "2021    1279500000\n",
       "2022    5517000000\n",
       "2023    1670000000"
      ]
     },
     "metadata": {},
     "output_type": "display_data"
    }
   ],
   "source": [
    "display(df.pivot_table(index=\"Season\",aggfunc=\"sum\"))"
   ]
  },
  {
   "cell_type": "code",
   "execution_count": 18,
   "id": "1114f300",
   "metadata": {},
   "outputs": [
    {
     "name": "stdout",
     "output_type": "stream",
     "text": [
      "Enter the year of which you want to see ipl auction (2013-2023): 2014\n"
     ]
    },
    {
     "data": {
      "text/html": [
       "<div>\n",
       "<style scoped>\n",
       "    .dataframe tbody tr th:only-of-type {\n",
       "        vertical-align: middle;\n",
       "    }\n",
       "\n",
       "    .dataframe tbody tr th {\n",
       "        vertical-align: top;\n",
       "    }\n",
       "\n",
       "    .dataframe thead th {\n",
       "        text-align: right;\n",
       "    }\n",
       "</style>\n",
       "<table border=\"1\" class=\"dataframe\">\n",
       "  <thead>\n",
       "    <tr style=\"text-align: right;\">\n",
       "      <th></th>\n",
       "      <th>Season</th>\n",
       "      <th>Name</th>\n",
       "      <th>Nationality</th>\n",
       "      <th>Type</th>\n",
       "      <th>Team</th>\n",
       "      <th>Price</th>\n",
       "    </tr>\n",
       "  </thead>\n",
       "  <tbody>\n",
       "    <tr>\n",
       "      <th>794</th>\n",
       "      <td>2014</td>\n",
       "      <td>Dinesh Karthik</td>\n",
       "      <td>Indian</td>\n",
       "      <td>Wicket-Keeper</td>\n",
       "      <td>Delhi Capitals</td>\n",
       "      <td>125000000</td>\n",
       "    </tr>\n",
       "    <tr>\n",
       "      <th>816</th>\n",
       "      <td>2014</td>\n",
       "      <td>Milind Kumar</td>\n",
       "      <td>Not Available</td>\n",
       "      <td>Batsman</td>\n",
       "      <td>Delhi Capitals</td>\n",
       "      <td>1000000</td>\n",
       "    </tr>\n",
       "    <tr>\n",
       "      <th>815</th>\n",
       "      <td>2014</td>\n",
       "      <td>HS Sharath</td>\n",
       "      <td>Not Available</td>\n",
       "      <td>Bowler</td>\n",
       "      <td>Delhi Capitals</td>\n",
       "      <td>1000000</td>\n",
       "    </tr>\n",
       "    <tr>\n",
       "      <th>814</th>\n",
       "      <td>2014</td>\n",
       "      <td>Jayant Yadav</td>\n",
       "      <td>Indian</td>\n",
       "      <td>All-Rounder</td>\n",
       "      <td>Delhi Capitals</td>\n",
       "      <td>1000000</td>\n",
       "    </tr>\n",
       "    <tr>\n",
       "      <th>812</th>\n",
       "      <td>2014</td>\n",
       "      <td>Siddarth Kaul</td>\n",
       "      <td>Indian</td>\n",
       "      <td>Bowler</td>\n",
       "      <td>Delhi Capitals</td>\n",
       "      <td>4500000</td>\n",
       "    </tr>\n",
       "    <tr>\n",
       "      <th>...</th>\n",
       "      <td>...</td>\n",
       "      <td>...</td>\n",
       "      <td>...</td>\n",
       "      <td>...</td>\n",
       "      <td>...</td>\n",
       "      <td>...</td>\n",
       "    </tr>\n",
       "    <tr>\n",
       "      <th>912</th>\n",
       "      <td>2014</td>\n",
       "      <td>Amit Mishra</td>\n",
       "      <td>Indian</td>\n",
       "      <td>Bowler</td>\n",
       "      <td>Sunrisers Hyderabad</td>\n",
       "      <td>47500000</td>\n",
       "    </tr>\n",
       "    <tr>\n",
       "      <th>911</th>\n",
       "      <td>2014</td>\n",
       "      <td>David Warner</td>\n",
       "      <td>Overseas</td>\n",
       "      <td>Batsman</td>\n",
       "      <td>Sunrisers Hyderabad</td>\n",
       "      <td>55000000</td>\n",
       "    </tr>\n",
       "    <tr>\n",
       "      <th>931</th>\n",
       "      <td>2014</td>\n",
       "      <td>Chama Milind</td>\n",
       "      <td>Indian</td>\n",
       "      <td>Bowler</td>\n",
       "      <td>Sunrisers Hyderabad</td>\n",
       "      <td>1000000</td>\n",
       "    </tr>\n",
       "    <tr>\n",
       "      <th>920</th>\n",
       "      <td>2014</td>\n",
       "      <td>KL Rahul</td>\n",
       "      <td>Not Available</td>\n",
       "      <td>Batsman</td>\n",
       "      <td>Sunrisers Hyderabad</td>\n",
       "      <td>10000000</td>\n",
       "    </tr>\n",
       "    <tr>\n",
       "      <th>932</th>\n",
       "      <td>2014</td>\n",
       "      <td>Manprit Juneja</td>\n",
       "      <td>Not Available</td>\n",
       "      <td>Batsman</td>\n",
       "      <td>Sunrisers Hyderabad</td>\n",
       "      <td>1000000</td>\n",
       "    </tr>\n",
       "  </tbody>\n",
       "</table>\n",
       "<p>139 rows × 6 columns</p>\n",
       "</div>"
      ],
      "text/plain": [
       "     Season            Name    Nationality           Type  \\\n",
       "794    2014  Dinesh Karthik        Indian   Wicket-Keeper   \n",
       "816    2014    Milind Kumar  Not Available        Batsman   \n",
       "815    2014      HS Sharath  Not Available         Bowler   \n",
       "814    2014    Jayant Yadav        Indian     All-Rounder   \n",
       "812    2014   Siddarth Kaul        Indian          Bowler   \n",
       "..      ...             ...            ...            ...   \n",
       "912    2014     Amit Mishra        Indian          Bowler   \n",
       "911    2014    David Warner      Overseas         Batsman   \n",
       "931    2014    Chama Milind        Indian          Bowler   \n",
       "920    2014        KL Rahul  Not Available        Batsman   \n",
       "932    2014  Manprit Juneja  Not Available        Batsman   \n",
       "\n",
       "                    Team      Price  \n",
       "794       Delhi Capitals  125000000  \n",
       "816       Delhi Capitals    1000000  \n",
       "815       Delhi Capitals    1000000  \n",
       "814       Delhi Capitals    1000000  \n",
       "812       Delhi Capitals    4500000  \n",
       "..                   ...        ...  \n",
       "912  Sunrisers Hyderabad   47500000  \n",
       "911  Sunrisers Hyderabad   55000000  \n",
       "931  Sunrisers Hyderabad    1000000  \n",
       "920  Sunrisers Hyderabad   10000000  \n",
       "932  Sunrisers Hyderabad    1000000  \n",
       "\n",
       "[139 rows x 6 columns]"
      ]
     },
     "metadata": {},
     "output_type": "display_data"
    }
   ],
   "source": [
    "## Auction in each year\n",
    "\n",
    "yr=int(input(\"Enter the year of which you want to see ipl auction (2013-2023): \"))\n",
    "display(df.query(f\"Season== {yr}\").sort_values(\"Team\"))"
   ]
  },
  {
   "cell_type": "markdown",
   "id": "8be87a51",
   "metadata": {},
   "source": [
    "## Expenditure of each time season wise"
   ]
  },
  {
   "cell_type": "code",
   "execution_count": 19,
   "id": "3c7bfd45",
   "metadata": {},
   "outputs": [
    {
     "data": {
      "text/html": [
       "<div>\n",
       "<style scoped>\n",
       "    .dataframe tbody tr th:only-of-type {\n",
       "        vertical-align: middle;\n",
       "    }\n",
       "\n",
       "    .dataframe tbody tr th {\n",
       "        vertical-align: top;\n",
       "    }\n",
       "\n",
       "    .dataframe thead th {\n",
       "        text-align: right;\n",
       "    }\n",
       "</style>\n",
       "<table border=\"1\" class=\"dataframe\">\n",
       "  <thead>\n",
       "    <tr style=\"text-align: right;\">\n",
       "      <th></th>\n",
       "      <th></th>\n",
       "      <th>Price</th>\n",
       "    </tr>\n",
       "    <tr>\n",
       "      <th>Season</th>\n",
       "      <th>Team</th>\n",
       "      <th></th>\n",
       "    </tr>\n",
       "  </thead>\n",
       "  <tbody>\n",
       "    <tr>\n",
       "      <th rowspan=\"5\" valign=\"top\">2013</th>\n",
       "      <th>Delhi Capitals</th>\n",
       "      <td>760000</td>\n",
       "    </tr>\n",
       "    <tr>\n",
       "      <th>Kolkata Knight Riders</th>\n",
       "      <td>675000</td>\n",
       "    </tr>\n",
       "    <tr>\n",
       "      <th>Mumbai Indians</th>\n",
       "      <td>2000000</td>\n",
       "    </tr>\n",
       "    <tr>\n",
       "      <th>Pune Warriors India</th>\n",
       "      <td>2500000</td>\n",
       "    </tr>\n",
       "    <tr>\n",
       "      <th>Punjab Kings</th>\n",
       "      <td>800000</td>\n",
       "    </tr>\n",
       "    <tr>\n",
       "      <th>...</th>\n",
       "      <th>...</th>\n",
       "      <td>...</td>\n",
       "    </tr>\n",
       "    <tr>\n",
       "      <th rowspan=\"5\" valign=\"top\">2023</th>\n",
       "      <th>Mumbai Indians</th>\n",
       "      <td>205000000</td>\n",
       "    </tr>\n",
       "    <tr>\n",
       "      <th>Punjab Kings</th>\n",
       "      <td>200000000</td>\n",
       "    </tr>\n",
       "    <tr>\n",
       "      <th>Rajasthan Royals</th>\n",
       "      <td>98500000</td>\n",
       "    </tr>\n",
       "    <tr>\n",
       "      <th>Royal Challengers Bangalore</th>\n",
       "      <td>70000000</td>\n",
       "    </tr>\n",
       "    <tr>\n",
       "      <th>Sunrisers Hyderabad</th>\n",
       "      <td>357000000</td>\n",
       "    </tr>\n",
       "  </tbody>\n",
       "</table>\n",
       "<p>84 rows × 1 columns</p>\n",
       "</div>"
      ],
      "text/plain": [
       "                                        Price\n",
       "Season Team                                  \n",
       "2013   Delhi Capitals                  760000\n",
       "       Kolkata Knight Riders           675000\n",
       "       Mumbai Indians                 2000000\n",
       "       Pune Warriors India            2500000\n",
       "       Punjab Kings                    800000\n",
       "...                                       ...\n",
       "2023   Mumbai Indians               205000000\n",
       "       Punjab Kings                 200000000\n",
       "       Rajasthan Royals              98500000\n",
       "       Royal Challengers Bangalore   70000000\n",
       "       Sunrisers Hyderabad          357000000\n",
       "\n",
       "[84 rows x 1 columns]"
      ]
     },
     "metadata": {},
     "output_type": "display_data"
    }
   ],
   "source": [
    "display(df.groupby([\"Season\",\"Team\"])[[\"Price\"]].sum())"
   ]
  },
  {
   "cell_type": "markdown",
   "id": "0271280f",
   "metadata": {},
   "source": [
    "## The most expensive player of each team season wise"
   ]
  },
  {
   "cell_type": "code",
   "execution_count": 20,
   "id": "856da2ce",
   "metadata": {
    "scrolled": false
   },
   "outputs": [
    {
     "data": {
      "text/html": [
       "<div>\n",
       "<style scoped>\n",
       "    .dataframe tbody tr th:only-of-type {\n",
       "        vertical-align: middle;\n",
       "    }\n",
       "\n",
       "    .dataframe tbody tr th {\n",
       "        vertical-align: top;\n",
       "    }\n",
       "\n",
       "    .dataframe thead th {\n",
       "        text-align: right;\n",
       "    }\n",
       "</style>\n",
       "<table border=\"1\" class=\"dataframe\">\n",
       "  <thead>\n",
       "    <tr style=\"text-align: right;\">\n",
       "      <th></th>\n",
       "      <th></th>\n",
       "      <th>Price</th>\n",
       "    </tr>\n",
       "    <tr>\n",
       "      <th>Season</th>\n",
       "      <th>Team</th>\n",
       "      <th></th>\n",
       "    </tr>\n",
       "  </thead>\n",
       "  <tbody>\n",
       "    <tr>\n",
       "      <th rowspan=\"5\" valign=\"top\">2013</th>\n",
       "      <th>Delhi Capitals</th>\n",
       "      <td>450000</td>\n",
       "    </tr>\n",
       "    <tr>\n",
       "      <th>Kolkata Knight Riders</th>\n",
       "      <td>625000</td>\n",
       "    </tr>\n",
       "    <tr>\n",
       "      <th>Mumbai Indians</th>\n",
       "      <td>1000000</td>\n",
       "    </tr>\n",
       "    <tr>\n",
       "      <th>Pune Warriors India</th>\n",
       "      <td>725000</td>\n",
       "    </tr>\n",
       "    <tr>\n",
       "      <th>Punjab Kings</th>\n",
       "      <td>500000</td>\n",
       "    </tr>\n",
       "    <tr>\n",
       "      <th>...</th>\n",
       "      <th>...</th>\n",
       "      <td>...</td>\n",
       "    </tr>\n",
       "    <tr>\n",
       "      <th rowspan=\"5\" valign=\"top\">2023</th>\n",
       "      <th>Mumbai Indians</th>\n",
       "      <td>175000000</td>\n",
       "    </tr>\n",
       "    <tr>\n",
       "      <th>Punjab Kings</th>\n",
       "      <td>185000000</td>\n",
       "    </tr>\n",
       "    <tr>\n",
       "      <th>Rajasthan Royals</th>\n",
       "      <td>57500000</td>\n",
       "    </tr>\n",
       "    <tr>\n",
       "      <th>Royal Challengers Bangalore</th>\n",
       "      <td>32000000</td>\n",
       "    </tr>\n",
       "    <tr>\n",
       "      <th>Sunrisers Hyderabad</th>\n",
       "      <td>132500000</td>\n",
       "    </tr>\n",
       "  </tbody>\n",
       "</table>\n",
       "<p>84 rows × 1 columns</p>\n",
       "</div>"
      ],
      "text/plain": [
       "                                        Price\n",
       "Season Team                                  \n",
       "2013   Delhi Capitals                  450000\n",
       "       Kolkata Knight Riders           625000\n",
       "       Mumbai Indians                 1000000\n",
       "       Pune Warriors India             725000\n",
       "       Punjab Kings                    500000\n",
       "...                                       ...\n",
       "2023   Mumbai Indians               175000000\n",
       "       Punjab Kings                 185000000\n",
       "       Rajasthan Royals              57500000\n",
       "       Royal Challengers Bangalore   32000000\n",
       "       Sunrisers Hyderabad          132500000\n",
       "\n",
       "[84 rows x 1 columns]"
      ]
     },
     "metadata": {},
     "output_type": "display_data"
    }
   ],
   "source": [
    "display(df.groupby([\"Season\",\"Team\"])[[\"Price\"]].max())"
   ]
  },
  {
   "cell_type": "markdown",
   "id": "4c4327d4",
   "metadata": {},
   "source": [
    "## Money Spent till now by each Team"
   ]
  },
  {
   "cell_type": "code",
   "execution_count": 21,
   "id": "56c362cd",
   "metadata": {},
   "outputs": [
    {
     "data": {
      "text/html": [
       "<div>\n",
       "<style scoped>\n",
       "    .dataframe tbody tr th:only-of-type {\n",
       "        vertical-align: middle;\n",
       "    }\n",
       "\n",
       "    .dataframe tbody tr th {\n",
       "        vertical-align: top;\n",
       "    }\n",
       "\n",
       "    .dataframe thead th {\n",
       "        text-align: right;\n",
       "    }\n",
       "</style>\n",
       "<table border=\"1\" class=\"dataframe\">\n",
       "  <thead>\n",
       "    <tr style=\"text-align: right;\">\n",
       "      <th></th>\n",
       "      <th>Price</th>\n",
       "    </tr>\n",
       "    <tr>\n",
       "      <th>Team</th>\n",
       "      <th></th>\n",
       "    </tr>\n",
       "  </thead>\n",
       "  <tbody>\n",
       "    <tr>\n",
       "      <th>Pune Warriors India</th>\n",
       "      <td>2500000</td>\n",
       "    </tr>\n",
       "    <tr>\n",
       "      <th>Rising Pune Supergiant</th>\n",
       "      <td>390000000</td>\n",
       "    </tr>\n",
       "    <tr>\n",
       "      <th>Chennai Super Kings</th>\n",
       "      <td>640000000</td>\n",
       "    </tr>\n",
       "    <tr>\n",
       "      <th>Lucknow Super Giants</th>\n",
       "      <td>788000000</td>\n",
       "    </tr>\n",
       "    <tr>\n",
       "      <th>Gujarat Titans</th>\n",
       "      <td>871500000</td>\n",
       "    </tr>\n",
       "    <tr>\n",
       "      <th>Mumbai Indians</th>\n",
       "      <td>1927000000</td>\n",
       "    </tr>\n",
       "    <tr>\n",
       "      <th>Rajasthan Royals</th>\n",
       "      <td>2080130000</td>\n",
       "    </tr>\n",
       "    <tr>\n",
       "      <th>Kolkata Knight Riders</th>\n",
       "      <td>2169175000</td>\n",
       "    </tr>\n",
       "    <tr>\n",
       "      <th>Delhi Capitals</th>\n",
       "      <td>2541760000</td>\n",
       "    </tr>\n",
       "    <tr>\n",
       "      <th>Sunrisers Hyderabad</th>\n",
       "      <td>2562920000</td>\n",
       "    </tr>\n",
       "    <tr>\n",
       "      <th>Royal Challengers Bangalore</th>\n",
       "      <td>2645315000</td>\n",
       "    </tr>\n",
       "    <tr>\n",
       "      <th>Punjab Kings</th>\n",
       "      <td>3119300000</td>\n",
       "    </tr>\n",
       "  </tbody>\n",
       "</table>\n",
       "</div>"
      ],
      "text/plain": [
       "                                  Price\n",
       "Team                                   \n",
       "Pune Warriors India             2500000\n",
       "Rising Pune Supergiant        390000000\n",
       "Chennai Super Kings           640000000\n",
       "Lucknow Super Giants          788000000\n",
       "Gujarat Titans                871500000\n",
       "Mumbai Indians               1927000000\n",
       "Rajasthan Royals             2080130000\n",
       "Kolkata Knight Riders        2169175000\n",
       "Delhi Capitals               2541760000\n",
       "Sunrisers Hyderabad          2562920000\n",
       "Royal Challengers Bangalore  2645315000\n",
       "Punjab Kings                 3119300000"
      ]
     },
     "metadata": {},
     "output_type": "display_data"
    }
   ],
   "source": [
    "display(df.pivot_table(index=\"Team\",values=\"Price\",aggfunc=\"sum\").sort_values(\"Price\"))"
   ]
  },
  {
   "cell_type": "markdown",
   "id": "06ef963f",
   "metadata": {},
   "source": [
    "## Number of each type of players every season"
   ]
  },
  {
   "cell_type": "code",
   "execution_count": 22,
   "id": "7bd12eaf",
   "metadata": {},
   "outputs": [
    {
     "data": {
      "text/plain": [
       "Season  Type         \n",
       "2013    All-Rounder      13\n",
       "        Batsman           4\n",
       "        Bowler           13\n",
       "        Wicket-Keeper     2\n",
       "2014    All-Rounder      30\n",
       "        Batsman          33\n",
       "        Bowler           60\n",
       "        Wicket-Keeper    16\n",
       "2015    All-Rounder      23\n",
       "        Batsman          13\n",
       "        Bowler           19\n",
       "        Wicket-Keeper     4\n",
       "2016    All-Rounder      33\n",
       "        Batsman           8\n",
       "        Bowler           31\n",
       "        Wicket-Keeper     8\n",
       "2017    All-Rounder      19\n",
       "        Batsman          11\n",
       "        Bowler           25\n",
       "        Wicket-Keeper     2\n",
       "2018    All-Rounder      52\n",
       "        Batsman          32\n",
       "        Bowler           51\n",
       "        Wicket-Keeper    12\n",
       "2019    All-Rounder      25\n",
       "        Batsman           9\n",
       "        Bowler           17\n",
       "        Wicket-Keeper     7\n",
       "2020    All-Rounder      24\n",
       "        Batsman          12\n",
       "        Bowler           16\n",
       "        Wicket-Keeper     6\n",
       "2021    All-Rounder      25\n",
       "        Batsman           4\n",
       "        Bowler           17\n",
       "        Wicket-Keeper     5\n",
       "2022    All-Rounder      77\n",
       "        Batsman          36\n",
       "        Bowler           69\n",
       "        Wicket-Keeper    22\n",
       "2023    All-Rounder      29\n",
       "        Batsman          12\n",
       "        Bowler           27\n",
       "        Wicket-Keeper    12\n",
       "dtype: int64"
      ]
     },
     "metadata": {},
     "output_type": "display_data"
    }
   ],
   "source": [
    "display(df.groupby([\"Season\",\"Type\"])[[\"Type\"]].value_counts())"
   ]
  },
  {
   "cell_type": "markdown",
   "id": "952d66c4",
   "metadata": {},
   "source": [
    "## Number of players according to Type, season wise, the team which you want"
   ]
  },
  {
   "cell_type": "code",
   "execution_count": 23,
   "id": "f9055bfe",
   "metadata": {},
   "outputs": [
    {
     "name": "stdout",
     "output_type": "stream",
     "text": [
      "Enter team name: Punjab Kings\n"
     ]
    },
    {
     "data": {
      "text/plain": [
       "Season  Type         \n",
       "2013    Batsman           1\n",
       "        Bowler            1\n",
       "2014    All-Rounder       7\n",
       "        Batsman           5\n",
       "        Bowler            8\n",
       "        Wicket-Keeper     1\n",
       "2015    All-Rounder       1\n",
       "        Batsman           1\n",
       "        Wicket-Keeper     1\n",
       "2016    All-Rounder       4\n",
       "        Batsman           1\n",
       "        Bowler            3\n",
       "2017    All-Rounder       2\n",
       "        Batsman           3\n",
       "        Bowler            3\n",
       "2018    All-Rounder       6\n",
       "        Batsman           7\n",
       "        Bowler            7\n",
       "2019    All-Rounder       7\n",
       "        Bowler            4\n",
       "        Wicket-Keeper     2\n",
       "2020    All-Rounder       5\n",
       "        Bowler            3\n",
       "        Wicket-Keeper     1\n",
       "2021    All-Rounder       7\n",
       "        Bowler            2\n",
       "2022    All-Rounder      11\n",
       "        Batsman           2\n",
       "        Bowler            7\n",
       "        Wicket-Keeper     3\n",
       "2023    All-Rounder       4\n",
       "        Batsman           1\n",
       "        Bowler            1\n",
       "dtype: int64"
      ]
     },
     "metadata": {},
     "output_type": "display_data"
    }
   ],
   "source": [
    "team=input(\"Enter team name: \").title()\n",
    "display(df.query(f\"Team=='{team}'\").groupby([\"Season\",\"Type\"])[[\"Type\"]].value_counts())"
   ]
  },
  {
   "cell_type": "markdown",
   "id": "f46d9504",
   "metadata": {},
   "source": [
    "## Maximum money Spent on each Type till now"
   ]
  },
  {
   "cell_type": "code",
   "execution_count": 55,
   "id": "3fadc834",
   "metadata": {},
   "outputs": [
    {
     "data": {
      "text/html": [
       "<div>\n",
       "<style scoped>\n",
       "    .dataframe tbody tr th:only-of-type {\n",
       "        vertical-align: middle;\n",
       "    }\n",
       "\n",
       "    .dataframe tbody tr th {\n",
       "        vertical-align: top;\n",
       "    }\n",
       "\n",
       "    .dataframe thead th {\n",
       "        text-align: right;\n",
       "    }\n",
       "</style>\n",
       "<table border=\"1\" class=\"dataframe\">\n",
       "  <thead>\n",
       "    <tr style=\"text-align: right;\">\n",
       "      <th></th>\n",
       "      <th>Price</th>\n",
       "    </tr>\n",
       "    <tr>\n",
       "      <th>Type</th>\n",
       "      <th></th>\n",
       "    </tr>\n",
       "  </thead>\n",
       "  <tbody>\n",
       "    <tr>\n",
       "      <th>Bowler</th>\n",
       "      <td>140000000</td>\n",
       "    </tr>\n",
       "    <tr>\n",
       "      <th>Batsman</th>\n",
       "      <td>160000000</td>\n",
       "    </tr>\n",
       "    <tr>\n",
       "      <th>Wicket-Keeper</th>\n",
       "      <td>160000000</td>\n",
       "    </tr>\n",
       "    <tr>\n",
       "      <th>All-Rounder</th>\n",
       "      <td>185000000</td>\n",
       "    </tr>\n",
       "  </tbody>\n",
       "</table>\n",
       "</div>"
      ],
      "text/plain": [
       "                   Price\n",
       "Type                    \n",
       "Bowler         140000000\n",
       "Batsman        160000000\n",
       "Wicket-Keeper  160000000\n",
       "All-Rounder    185000000"
      ]
     },
     "metadata": {},
     "output_type": "display_data"
    },
    {
     "data": {
      "image/png": "[encoded data removed]",
      "text/plain": [
       "<Figure size 1080x720 with 1 Axes>"
      ]
     },
     "metadata": {},
     "output_type": "display_data"
    },
    {
     "data": {
      "text/html": [
       "<div>\n",
       "<style scoped>\n",
       "    .dataframe tbody tr th:only-of-type {\n",
       "        vertical-align: middle;\n",
       "    }\n",
       "\n",
       "    .dataframe tbody tr th {\n",
       "        vertical-align: top;\n",
       "    }\n",
       "\n",
       "    .dataframe thead th {\n",
       "        text-align: right;\n",
       "    }\n",
       "</style>\n",
       "<table border=\"1\" class=\"dataframe\">\n",
       "  <thead>\n",
       "    <tr style=\"text-align: right;\">\n",
       "      <th></th>\n",
       "      <th>Season</th>\n",
       "      <th>Name</th>\n",
       "      <th>Nationality</th>\n",
       "      <th>Type</th>\n",
       "      <th>Team</th>\n",
       "      <th>Price</th>\n",
       "    </tr>\n",
       "  </thead>\n",
       "  <tbody>\n",
       "    <tr>\n",
       "      <th>49</th>\n",
       "      <td>2023</td>\n",
       "      <td>Sam Curran</td>\n",
       "      <td>Overseas</td>\n",
       "      <td>All-Rounder</td>\n",
       "      <td>Punjab Kings</td>\n",
       "      <td>185000000</td>\n",
       "    </tr>\n",
       "    <tr>\n",
       "      <th>735</th>\n",
       "      <td>2015</td>\n",
       "      <td>Yuvraj Singh</td>\n",
       "      <td>Indian</td>\n",
       "      <td>Batsman</td>\n",
       "      <td>Delhi Capitals</td>\n",
       "      <td>160000000</td>\n",
       "    </tr>\n",
       "    <tr>\n",
       "      <th>83</th>\n",
       "      <td>2022</td>\n",
       "      <td>Deepak Chahar</td>\n",
       "      <td>Indian</td>\n",
       "      <td>Bowler</td>\n",
       "      <td>Chennai Super Kings</td>\n",
       "      <td>140000000</td>\n",
       "    </tr>\n",
       "    <tr>\n",
       "      <th>307</th>\n",
       "      <td>2021</td>\n",
       "      <td>Jhye Richardson</td>\n",
       "      <td>Overseas</td>\n",
       "      <td>Bowler</td>\n",
       "      <td>Punjab Kings</td>\n",
       "      <td>140000000</td>\n",
       "    </tr>\n",
       "    <tr>\n",
       "      <th>28</th>\n",
       "      <td>2023</td>\n",
       "      <td>Nicholas Pooran</td>\n",
       "      <td>Overseas</td>\n",
       "      <td>Wicket-Keeper</td>\n",
       "      <td>Lucknow Super Giants</td>\n",
       "      <td>160000000</td>\n",
       "    </tr>\n",
       "  </tbody>\n",
       "</table>\n",
       "</div>"
      ],
      "text/plain": [
       "    Season              Name Nationality           Type                  Team  \\\n",
       "49    2023       Sam Curran    Overseas     All-Rounder          Punjab Kings   \n",
       "735   2015      Yuvraj Singh     Indian         Batsman        Delhi Capitals   \n",
       "83    2022    Deepak Chahar      Indian          Bowler   Chennai Super Kings   \n",
       "307   2021  Jhye Richardson    Overseas          Bowler          Punjab Kings   \n",
       "28    2023  Nicholas Pooran    Overseas   Wicket-Keeper  Lucknow Super Giants   \n",
       "\n",
       "         Price  \n",
       "49   185000000  \n",
       "735  160000000  \n",
       "83   140000000  \n",
       "307  140000000  \n",
       "28   160000000  "
      ]
     },
     "metadata": {},
     "output_type": "display_data"
    }
   ],
   "source": [
    "expensive=df.groupby([\"Type\"])[[\"Price\"]].max().sort_values(\"Price\")\n",
    "display(expensive)\n",
    "plt.style.use('dark_background')\n",
    "expensive.plot(kind='pie',autopct='%1.1f%%',subplots=True,figsize=(15,10),fontsize=20)\n",
    "plt.title(\"Most expensive type of player\",fontsize=24)\n",
    "plt.show()\n",
    "\n",
    "result = pd.DataFrame(columns=[\"Season\",\t\"Name\",\t\"Nationality\",\t\"Type\",\t\"Team\",\t\"Price\"])\n",
    "typeGroup = df.groupby([\"Type\"])\n",
    "for group in typeGroup.groups.keys():\n",
    "    temp = typeGroup.get_group(group)[typeGroup.get_group(group)['Price'] ==  typeGroup.get_group(group)['Price'].max()]\n",
    "    result = pd.concat([result, temp])\n",
    "display(result)\n",
    "\n"
   ]
  },
  {
   "cell_type": "markdown",
   "id": "75c0f231",
   "metadata": {},
   "source": [
    "## Number of players according to Nationality "
   ]
  },
  {
   "cell_type": "code",
   "execution_count": 59,
   "id": "134e225b",
   "metadata": {},
   "outputs": [
    {
     "name": "stdout",
     "output_type": "stream",
     "text": [
      "Not Available    418\n",
      "Indian           376\n",
      "Overseas         171\n",
      "Name: Nationality, dtype: int64\n"
     ]
    },
    {
     "data": {
      "image/png": "[encoded data removed]",
      "text/plain": [
       "<Figure size 1080x720 with 1 Axes>"
      ]
     },
     "metadata": {},
     "output_type": "display_data"
    }
   ],
   "source": [
    "nation=df[\"Nationality\"].value_counts()\n",
    "print(nation)\n",
    "\n",
    "nation.plot(kind='pie',autopct='%1.1f%%',subplots=True,figsize=(15,10),fontsize=20)\n",
    "plt.title(\"Nationality of Players\",fontsize=24)\n",
    "plt.show()"
   ]
  },
  {
   "cell_type": "markdown",
   "id": "bbadda89",
   "metadata": {},
   "source": [
    "## Number of players according to Nationality in each Season"
   ]
  },
  {
   "cell_type": "code",
   "execution_count": 26,
   "id": "f0b2649c",
   "metadata": {},
   "outputs": [
    {
     "data": {
      "text/plain": [
       "Season  Nationality  \n",
       "2013    Not Available     28\n",
       "        Overseas           3\n",
       "        Indian             1\n",
       "2014    Not Available     92\n",
       "        Indian            38\n",
       "        Overseas           9\n",
       "2015    Not Available     39\n",
       "        Indian            14\n",
       "        Overseas           6\n",
       "2016    Not Available     55\n",
       "        Indian            19\n",
       "        Overseas           6\n",
       "2017    Not Available     34\n",
       "        Indian            15\n",
       "        Overseas           8\n",
       "2018    Not Available     79\n",
       "        Indian            52\n",
       "        Overseas          16\n",
       "2019    Not Available     32\n",
       "        Indian            18\n",
       "        Overseas           8\n",
       "2020    Not Available     33\n",
       "        Indian            17\n",
       "        Overseas           8\n",
       "2021    Not Available     26\n",
       "        Indian            14\n",
       "        Overseas          11\n",
       "2022    Indian           137\n",
       "        Overseas          67\n",
       "2023    Indian            51\n",
       "        Overseas          29\n",
       "dtype: int64"
      ]
     },
     "metadata": {},
     "output_type": "display_data"
    }
   ],
   "source": [
    "display(df.groupby([\"Season\"])[[\"Nationality\"]].value_counts())"
   ]
  },
  {
   "cell_type": "markdown",
   "id": "288ffdbd",
   "metadata": {},
   "source": [
    "## Comparison of Total money Spent in each Season of a Team"
   ]
  },
  {
   "cell_type": "code",
   "execution_count": 57,
   "id": "5d81990a",
   "metadata": {},
   "outputs": [
    {
     "name": "stdout",
     "output_type": "stream",
     "text": [
      "Enter team name: punjab kings\n"
     ]
    },
    {
     "data": {
      "image/png": "[encoded data removed]",
      "text/plain": [
       "<Figure size 1080x432 with 1 Axes>"
      ]
     },
     "metadata": {},
     "output_type": "display_data"
    }
   ],
   "source": [
    "# Barplot on Expenditure of a team each season\n",
    "\n",
    "tm=input(\"Enter team name: \").title()\n",
    "plt.figure(figsize=(15,6))\n",
    "hyu=df.query(f\"Team=='{tm}'\")\n",
    "hyu\n",
    "sns.barplot(y=\"Price\",x=\"Season\",data=hyu,hue='Team')\n",
    "plt.show()"
   ]
  },
  {
   "cell_type": "markdown",
   "id": "bb0e6268",
   "metadata": {},
   "source": [
    "## Comaprison of total expenditure of teams in a season"
   ]
  },
  {
   "cell_type": "code",
   "execution_count": 60,
   "id": "15baf394",
   "metadata": {},
   "outputs": [
    {
     "name": "stdout",
     "output_type": "stream",
     "text": [
      "Enter Season: 2016\n"
     ]
    },
    {
     "data": {
      "image/png": "[encoded data removed]",
      "text/plain": [
       "<Figure size 1800x720 with 1 Axes>"
      ]
     },
     "metadata": {},
     "output_type": "display_data"
    }
   ],
   "source": [
    "yr=int(input(\"Enter Season: \"))\n",
    "hy=df.query(f\"Season=={yr}\")\n",
    "plt.figure(figsize=(25,10))\n",
    "figg=sns.barplot(x='Team',y='Price',data=hy,hue='Season')\n",
    "figg.set_xlabel('Team',size = 20 )\n",
    "figg.set_ylabel('Price',size = 20 )\n",
    "plt.show()"
   ]
  },
  {
   "cell_type": "code",
   "execution_count": null,
   "id": "2aaac13e",
   "metadata": {},
   "outputs": [],
   "source": [
    "\n"
   ]
  }
 ],
 "metadata": {
  "kernelspec": {
   "display_name": "Python 3 (ipykernel)",
   "language": "python",
   "name": "python3"
  },
  "language_info": {
   "codemirror_mode": {
    "name": "ipython",
    "version": 3
   },
   "file_extension": ".py",
   "mimetype": "text/x-python",
   "name": "python",
   "nbconvert_exporter": "python",
   "pygments_lexer": "ipython3",
   "version": "3.9.12"
  }
 },
 "nbformat": 4,
 "nbformat_minor": 5
}
